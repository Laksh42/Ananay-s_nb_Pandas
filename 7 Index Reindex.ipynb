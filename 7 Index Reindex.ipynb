{
 "cells": [
  {
   "cell_type": "markdown",
   "metadata": {},
   "source": [
    "### `Indexing Description`\n",
    "**.loc()\tLabel based**\n",
    "<br>\n",
    "**.iloc()\tInteger based**\n",
    "<br>\n",
    "**.ix()\tBoth Label and Integer based**\n",
    "\n"
   ]
  },
  {
   "cell_type": "code",
   "execution_count": 1,
   "metadata": {
    "scrolled": true
   },
   "outputs": [
    {
     "name": "stdout",
     "output_type": "stream",
     "text": [
      "          A         B         C         D         E\n",
      "a -0.323758  0.389967 -0.692596 -0.664939 -0.447825\n",
      "b -1.483931  0.410686 -0.294853  1.261016 -0.738252\n",
      "c  0.286217  0.106864  1.026973 -1.483946  0.166841\n",
      "d -0.017891  0.301549  1.162919 -0.278847 -1.045318\n",
      "e -1.207559 -0.592170  1.203721 -0.464835  0.096486\n",
      "f -1.006465 -0.718100  0.417899  1.360852  0.968285\n",
      "g  0.187831  0.334239  0.083111 -0.477033  0.104368\n",
      "h -1.221009  1.042479 -0.449466  0.304136  1.490792\n",
      "i -2.102818  0.933337 -0.858649  0.154177 -1.939969\n",
      "j  1.145192 -0.977093  0.131940 -0.228341 -2.595979\n"
     ]
    }
   ],
   "source": [
    "\n",
    "import pandas as pd\n",
    "import numpy as np\n",
    "\n",
    "df = pd.DataFrame(np.random.randn(10,5), index =['a','b','c','d','e','f','g','h','i','j'], columns = ['A','B','C','D','E'])\n",
    "print (df)\n"
   ]
  },
  {
   "cell_type": "code",
   "execution_count": 2,
   "metadata": {},
   "outputs": [
    {
     "name": "stdout",
     "output_type": "stream",
     "text": [
      "a   -0.323758\n",
      "b   -1.483931\n",
      "c    0.286217\n",
      "d   -0.017891\n",
      "e   -1.207559\n",
      "f   -1.006465\n",
      "g    0.187831\n",
      "h   -1.221009\n",
      "i   -2.102818\n",
      "j    1.145192\n",
      "Name: A, dtype: float64\n",
      "          A         B         C\n",
      "a -0.323758  0.389967 -0.692596\n",
      "b -1.483931  0.410686 -0.294853\n",
      "c  0.286217  0.106864  1.026973\n",
      "d -0.017891  0.301549  1.162919\n",
      "e -1.207559 -0.592170  1.203721\n",
      "f -1.006465 -0.718100  0.417899\n",
      "g  0.187831  0.334239  0.083111\n",
      "h -1.221009  1.042479 -0.449466\n",
      "i -2.102818  0.933337 -0.858649\n",
      "j  1.145192 -0.977093  0.131940\n",
      "          A         C\n",
      "a -0.323758 -0.692596\n",
      "b -1.483931 -0.294853\n",
      "c  0.286217  1.026973\n",
      "d -0.017891  1.162919\n",
      "e -1.207559  1.203721\n",
      "f -1.006465  0.417899\n",
      "g  0.187831  0.083111\n",
      "h -1.221009 -0.449466\n",
      "i -2.102818 -0.858649\n",
      "j  1.145192  0.131940\n",
      "A   -1.483931\n",
      "B    0.410686\n",
      "C   -0.294853\n",
      "Name: b, dtype: float64\n",
      "          A         B         C\n",
      "b -1.483931  0.410686 -0.294853\n",
      "c  0.286217  0.106864  1.026973\n",
      "d -0.017891  0.301549  1.162919\n",
      "e -1.207559 -0.592170  1.203721\n",
      "f -1.006465 -0.718100  0.417899\n",
      "          A         C\n",
      "a -0.323758 -0.692596\n",
      "b -1.483931 -0.294853\n",
      "f -1.006465  0.417899\n",
      "h -1.221009 -0.449466\n",
      "          A         B         C         D         E\n",
      "a -0.323758  0.389967 -0.692596 -0.664939 -0.447825\n",
      "b -1.483931  0.410686 -0.294853  1.261016 -0.738252\n",
      "c  0.286217  0.106864  1.026973 -1.483946  0.166841\n",
      "d -0.017891  0.301549  1.162919 -0.278847 -1.045318\n",
      "e -1.207559 -0.592170  1.203721 -0.464835  0.096486\n",
      "f -1.006465 -0.718100  0.417899  1.360852  0.968285\n",
      "g  0.187831  0.334239  0.083111 -0.477033  0.104368\n",
      "h -1.221009  1.042479 -0.449466  0.304136  1.490792\n",
      "       A     B      C      D      E\n",
      "a  False  True  False  False  False\n",
      "b  False  True  False   True  False\n"
     ]
    }
   ],
   "source": [
    "print(df.loc[:,'A'])\n",
    "print(df.loc[:,'A':'C'])\n",
    "print(df.loc[:,['A','C']])\n",
    "print(df.loc['b','A':'C'])\n",
    "print(df.loc['b':'f','A':'C'])\n",
    "print(df.loc[['a','b','f','h'],['A','C']])\n",
    "print(df.loc['a':'h'])\n",
    "print(df.loc[['a','b']]>0)\n"
   ]
  },
  {
   "cell_type": "code",
   "execution_count": 29,
   "metadata": {
    "collapsed": true
   },
   "outputs": [
    {
     "name": "stdout",
     "output_type": "stream",
     "text": [
      "          B         E\n",
      "a  1.313949 -0.514677\n",
      "b -0.953641  0.185759\n",
      "c -2.066430  0.439213\n",
      "d  1.022986 -1.274908\n",
      "e -0.750191 -2.381254\n",
      "f  0.806146 -0.585062\n",
      "g -0.292859 -0.046917\n",
      "h  0.237491 -0.797196\n",
      "i -1.305431 -0.466206\n",
      "j -0.481766  0.600950\n",
      "          B         E\n",
      "c -2.066430  0.439213\n",
      "f  0.806146 -0.585062\n",
      "          D         E\n",
      "a -1.932880 -0.514677\n",
      "b  0.682390  0.185759\n",
      "c  1.975305  0.439213\n",
      "d -1.045921 -1.274908\n",
      "e -0.003322 -2.381254\n",
      "f -0.788971 -0.585062\n",
      "g -0.337275 -0.046917\n",
      "h -0.361827 -0.797196\n",
      "i  0.093608 -0.466206\n",
      "j  1.058005  0.600950\n"
     ]
    }
   ],
   "source": [
    "print(df.iloc[:,[1,4]])\n",
    "print(df.iloc[[2,5],[1,4]])\n",
    "print(df.iloc[:,3:])"
   ]
  },
  {
   "cell_type": "code",
   "execution_count": 19,
   "metadata": {
    "collapsed": true
   },
   "outputs": [
    {
     "name": "stdout",
     "output_type": "stream",
     "text": [
      "          A         B         C         D         E\n",
      "a  0.869709  1.313949  0.018752 -1.932880 -0.514677\n",
      "b -0.622692 -0.953641  0.054024  0.682390  0.185759\n",
      "c  0.428907 -2.066430  0.774568  1.975305  0.439213\n",
      "d  0.968032  1.022986  0.425188 -1.045921 -1.274908\n",
      "a   -0.514677\n",
      "b    0.185759\n",
      "c    0.439213\n",
      "d   -1.274908\n",
      "e   -2.381254\n",
      "f   -0.585062\n",
      "g   -0.046917\n",
      "h   -0.797196\n",
      "i   -0.466206\n",
      "j    0.600950\n",
      "Name: E, dtype: float64\n"
     ]
    },
    {
     "name": "stderr",
     "output_type": "stream",
     "text": [
      "c:\\users\\karan\\appdata\\local\\programs\\python\\python37-32\\lib\\site-packages\\ipykernel_launcher.py:1: DeprecationWarning: \n",
      ".ix is deprecated. Please use\n",
      ".loc for label based indexing or\n",
      ".iloc for positional indexing\n",
      "\n",
      "See the documentation here:\n",
      "http://pandas.pydata.org/pandas-docs/stable/indexing.html#ix-indexer-is-deprecated\n",
      "  \"\"\"Entry point for launching an IPython kernel.\n",
      "c:\\users\\karan\\appdata\\local\\programs\\python\\python37-32\\lib\\site-packages\\ipykernel_launcher.py:2: DeprecationWarning: \n",
      ".ix is deprecated. Please use\n",
      ".loc for label based indexing or\n",
      ".iloc for positional indexing\n",
      "\n",
      "See the documentation here:\n",
      "http://pandas.pydata.org/pandas-docs/stable/indexing.html#ix-indexer-is-deprecated\n",
      "  \n"
     ]
    }
   ],
   "source": [
    "print (df.ix[:4])\n",
    "print (df.ix[:,'E'])"
   ]
  },
  {
   "cell_type": "code",
   "execution_count": 22,
   "metadata": {
    "collapsed": true
   },
   "outputs": [
    {
     "name": "stdout",
     "output_type": "stream",
     "text": [
      "a    0.869709\n",
      "b   -0.622692\n",
      "c    0.428907\n",
      "d    0.968032\n",
      "e   -0.235832\n",
      "f    0.710551\n",
      "g   -0.017902\n",
      "h   -0.524460\n",
      "i    0.572233\n",
      "j    0.681439\n",
      "Name: A, dtype: float64\n",
      "          A         C\n",
      "a  0.869709  0.018752\n",
      "b -0.622692  0.054024\n",
      "c  0.428907  0.774568\n",
      "d  0.968032  0.425188\n",
      "e -0.235832  0.797131\n",
      "f  0.710551  1.001580\n",
      "g -0.017902 -0.981368\n",
      "h -0.524460 -0.115236\n",
      "i  0.572233  0.526802\n",
      "j  0.681439  2.499696\n",
      "a    0.869709\n",
      "b   -0.622692\n",
      "c    0.428907\n",
      "d    0.968032\n",
      "e   -0.235832\n",
      "f    0.710551\n",
      "g   -0.017902\n",
      "h   -0.524460\n",
      "i    0.572233\n",
      "j    0.681439\n",
      "Name: A, dtype: float64\n"
     ]
    }
   ],
   "source": [
    "print(df['A'])\n",
    "print(df[['A','C']])\n",
    "print(df.A)\n"
   ]
  },
  {
   "cell_type": "code",
   "execution_count": 30,
   "metadata": {
    "scrolled": true
   },
   "outputs": [
    {
     "name": "stdout",
     "output_type": "stream",
     "text": [
      "          A         B         C         D         E\n",
      "a  0.869709  1.313949  0.018752 -1.932880 -0.514677\n",
      "b -0.622692 -0.953641  0.054024  0.682390  0.185759\n",
      "c  0.428907 -2.066430  0.774568  1.975305  0.439213\n",
      "          A         B         C         D         E\n",
      "h -0.524460  0.237491 -0.115236 -0.361827 -0.797196\n",
      "i  0.572233 -1.305431  0.526802  0.093608 -0.466206\n",
      "j  0.681439 -0.481766  2.499696  1.058005  0.600950\n",
      "(10, 5)\n"
     ]
    }
   ],
   "source": [
    "print(df.head(3))\n",
    "print(df.tail(3))\n",
    "print(df.shape)"
   ]
  },
  {
   "cell_type": "markdown",
   "metadata": {},
   "source": [
    "### `*Reindex*`"
   ]
  },
  {
   "cell_type": "code",
   "execution_count": 45,
   "metadata": {},
   "outputs": [
    {
     "name": "stdout",
     "output_type": "stream",
     "text": [
      "       col1      col2      col3\n",
      "0 -0.075799  0.407542  0.429163\n",
      "1 -0.354790 -0.731750  1.087189\n",
      "2  0.458927 -0.068094  0.609937\n",
      "3 -0.229986 -0.026013  0.576951\n",
      "4 -0.105231 -0.204614 -0.710582\n",
      "5  0.990338  0.532683 -0.103423\n",
      "6  0.775666  0.646567  0.836912\n",
      "7  0.653594  1.681315 -1.642916\n",
      "8 -0.270807 -0.507780 -0.800910\n",
      "9  0.076404  1.826118  0.158087\n",
      "       col1      col2      col3\n",
      "0  1.680088  1.078007  0.016833\n",
      "1 -2.589147  0.919353 -0.929568\n",
      "2 -0.081741 -1.100940  0.421506\n",
      "3 -0.909290  1.209326 -0.222470\n",
      "4  0.861484  1.086610  1.400542\n",
      "5 -0.606454  1.607788  0.987931\n",
      "6 -1.147329  0.279398 -0.591847\n",
      "       col1      col2      col3\n",
      "0 -0.075799  0.407542  0.429163\n",
      "1 -0.354790 -0.731750  1.087189\n",
      "2  0.458927 -0.068094  0.609937\n",
      "3 -0.229986 -0.026013  0.576951\n",
      "4 -0.105231 -0.204614 -0.710582\n",
      "5  0.990338  0.532683 -0.103423\n",
      "6  0.775666  0.646567  0.836912\n",
      "       col1      col2      col3\n",
      "0  1.680088  1.078007  0.016833\n",
      "1 -2.589147  0.919353 -0.929568\n",
      "2 -0.081741 -1.100940  0.421506\n",
      "3 -0.909290  1.209326 -0.222470\n",
      "4  0.861484  1.086610  1.400542\n",
      "5 -0.606454  1.607788  0.987931\n",
      "6 -1.147329  0.279398 -0.591847\n",
      "7       NaN       NaN       NaN\n",
      "8       NaN       NaN       NaN\n",
      "9       NaN       NaN       NaN\n"
     ]
    }
   ],
   "source": [
    "df1 = pd.DataFrame(np.random.randn(10,3),columns=['col1','col2','col3'])\n",
    "df2 = pd.DataFrame(np.random.randn(7,3),columns=['col1','col2','col3'])\n",
    "print(df1)\n",
    "print(df2)\n",
    "print(df1.reindex_like(df2))\n",
    "print(df2.reindex_like(df1))\n"
   ]
  },
  {
   "cell_type": "code",
   "execution_count": 46,
   "metadata": {
    "collapsed": true
   },
   "outputs": [
    {
     "name": "stdout",
     "output_type": "stream",
     "text": [
      "Forward Fill\n",
      "        col1      col2      col3\n",
      "0  1.680088  1.078007  0.016833\n",
      "1 -2.589147  0.919353 -0.929568\n",
      "2 -0.081741 -1.100940  0.421506\n",
      "3 -0.909290  1.209326 -0.222470\n",
      "4  0.861484  1.086610  1.400542\n",
      "5 -0.606454  1.607788  0.987931\n",
      "6 -1.147329  0.279398 -0.591847\n",
      "7 -1.147329  0.279398 -0.591847\n",
      "8 -1.147329  0.279398 -0.591847\n",
      "9 -1.147329  0.279398 -0.591847\n",
      "Back Fill\n",
      "        col1      col2      col3\n",
      "0  1.680088  1.078007  0.016833\n",
      "1 -2.589147  0.919353 -0.929568\n",
      "2 -0.081741 -1.100940  0.421506\n",
      "3 -0.909290  1.209326 -0.222470\n",
      "4  0.861484  1.086610  1.400542\n",
      "5 -0.606454  1.607788  0.987931\n",
      "6 -1.147329  0.279398 -0.591847\n",
      "7       NaN       NaN       NaN\n",
      "8       NaN       NaN       NaN\n",
      "9       NaN       NaN       NaN\n",
      "Nearest Fill\n",
      "        col1      col2      col3\n",
      "0  1.680088  1.078007  0.016833\n",
      "1 -2.589147  0.919353 -0.929568\n",
      "2 -0.081741 -1.100940  0.421506\n",
      "3 -0.909290  1.209326 -0.222470\n",
      "4  0.861484  1.086610  1.400542\n",
      "5 -0.606454  1.607788  0.987931\n",
      "6 -1.147329  0.279398 -0.591847\n",
      "7 -1.147329  0.279398 -0.591847\n",
      "8 -1.147329  0.279398 -0.591847\n",
      "9 -1.147329  0.279398 -0.591847\n",
      "       col1      col2      col3\n",
      "0  1.680088  1.078007  0.016833\n",
      "1 -2.589147  0.919353 -0.929568\n",
      "2 -0.081741 -1.100940  0.421506\n",
      "3 -0.909290  1.209326 -0.222470\n",
      "4  0.861484  1.086610  1.400542\n",
      "5 -0.606454  1.607788  0.987931\n",
      "6 -1.147329  0.279398 -0.591847\n",
      "7 -1.147329  0.279398 -0.591847\n",
      "8 -1.147329  0.279398 -0.591847\n",
      "9       NaN       NaN       NaN\n"
     ]
    }
   ],
   "source": [
    "print (\"Forward Fill\\n\",df2.reindex_like(df1,method='ffill'))\n",
    "print (\"Back Fill\\n\",df2.reindex_like(df1,method='backfill'))\n",
    "print (\"Nearest Fill\\n\",df2.reindex_like(df1,method='nearest'))\n",
    "print (df2.reindex_like(df1,method='ffill',limit=2))\n"
   ]
  },
  {
   "cell_type": "code",
   "execution_count": 48,
   "metadata": {},
   "outputs": [
    {
     "name": "stdout",
     "output_type": "stream",
     "text": [
      "       col1      col2      col3\n",
      "0 -0.116084 -0.652155  0.830420\n",
      "1  0.853077 -0.764858 -0.433409\n",
      "2  0.631294 -0.017719  0.553253\n",
      "3 -0.644052  1.865981 -0.402102\n",
      "4  0.328758  0.869386  0.579108\n",
      "5 -0.212364 -0.529096  0.011983\n",
      "After renaming the rows and columns:\n",
      "             c1        c2      col3\n",
      "Apple -0.116084 -0.652155  0.830420\n",
      "Kiwi   0.853077 -0.764858 -0.433409\n",
      "Mango  0.631294 -0.017719  0.553253\n",
      "3     -0.644052  1.865981 -0.402102\n",
      "4      0.328758  0.869386  0.579108\n",
      "5     -0.212364 -0.529096  0.011983\n"
     ]
    }
   ],
   "source": [
    "df1 = pd.DataFrame(np.random.randn(6,3),columns=['col1','col2','col3'])\n",
    "print (df1)\n",
    "print (\"After renaming the rows and columns:\")\n",
    "print (df1.rename(columns={'col1':'c1','col2':'c2'},index = {0:'Apple',1:'Kiwi',2:'Mango'}))"
   ]
  },
  {
   "cell_type": "code",
   "execution_count": null,
   "metadata": {},
   "outputs": [],
   "source": []
  }
 ],
 "metadata": {
  "kernelspec": {
   "display_name": "Python 3",
   "language": "python",
   "name": "python3"
  },
  "language_info": {
   "codemirror_mode": {
    "name": "ipython",
    "version": 3
   },
   "file_extension": ".py",
   "mimetype": "text/x-python",
   "name": "python",
   "nbconvert_exporter": "python",
   "pygments_lexer": "ipython3",
   "version": "3.7.4"
  }
 },
 "nbformat": 4,
 "nbformat_minor": 2
}
