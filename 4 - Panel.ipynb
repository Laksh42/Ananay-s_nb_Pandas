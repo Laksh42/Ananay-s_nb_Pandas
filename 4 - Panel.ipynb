{
 "cells": [
  {
   "cell_type": "markdown",
   "metadata": {
    "collapsed": true
   },
   "source": [
    "A panel is a 3D container of data. The term Panel data is derived from econometrics and is partially responsible for the name pandas : pan(el)da(ta)s.\n",
    "\n",
    "The names for the 3 axes are intended to give some semantic meaning to describing operations involving panel data. They are :\n",
    "\n",
    "    items : axis 0, each item corresponds to a DataFrame contained inside.\n",
    "\n",
    "    major_axis : axis 1, it is the index (rows) of each of the DataFrames.\n",
    "\n",
    "    minor_axis : axis 2, it is the columns of each of the DataFrames.\n",
    "\n",
    "pandas.Panel()\n",
    "\n",
    "A Panel can be created using the following constructor :\n",
    "panda\n"
   ]
  },
  {
   "cell_type": "code",
   "execution_count": 3,
   "metadata": {},
   "outputs": [],
   "source": [
    "import pandas as pd\n",
    "import numpy as np"
   ]
  },
  {
   "cell_type": "code",
   "execution_count": 10,
   "metadata": {},
   "outputs": [
    {
     "name": "stdout",
     "output_type": "stream",
     "text": [
      "          0         1         2\n",
      "0  0.528807 -0.866951  0.030363\n",
      "1 -1.697666  0.119730 -1.282580\n",
      "2  1.390936  0.874816 -1.776882\n",
      "3 -0.688602  1.832936  0.285259\n",
      "          0         1\n",
      "0 -0.233233 -0.794780\n",
      "1 -1.410601  0.966065\n",
      "2  1.396968  0.141189\n",
      "3 -0.007916 -2.272141\n",
      "<class 'pandas.core.panel.Panel'>\n",
      "Dimensions: 2 (items) x 4 (major_axis) x 3 (minor_axis)\n",
      "Items axis: Item1 to Item2\n",
      "Major_axis axis: 0 to 3\n",
      "Minor_axis axis: 0 to 2\n",
      "          0         1         2\n",
      "0  0.528807 -0.866951  0.030363\n",
      "1 -1.697666  0.119730 -1.282580\n",
      "2  1.390936  0.874816 -1.776882\n",
      "3 -0.688602  1.832936  0.285259\n",
      "          0         1   2\n",
      "0 -0.233233 -0.794780 NaN\n",
      "1 -1.410601  0.966065 NaN\n",
      "2  1.396968  0.141189 NaN\n",
      "3 -0.007916 -2.272141 NaN\n"
     ]
    }
   ],
   "source": [
    "\n",
    "a=pd.DataFrame(np.random.randn(4, 3))\n",
    "b=pd.DataFrame(np.random.randn(4, 2))\n",
    "print(a)\n",
    "print(b)\n",
    "data1 = {'Item1' : a, 'Item2' : b}\n",
    "p1 = pd.Panel(data1)\n",
    "print (p1)\n",
    "print(p1['Item1'])\n",
    "print(p1['Item2'])"
   ]
  },
  {
   "cell_type": "code",
   "execution_count": 10,
   "metadata": {},
   "outputs": [],
   "source": [
    "import pandas as pd\n",
    "import numpy as np"
   ]
  },
  {
   "cell_type": "code",
   "execution_count": 12,
   "metadata": {},
   "outputs": [
    {
     "data": {
      "text/html": [
       "<div>\n",
       "<style scoped>\n",
       "    .dataframe tbody tr th:only-of-type {\n",
       "        vertical-align: middle;\n",
       "    }\n",
       "\n",
       "    .dataframe tbody tr th {\n",
       "        vertical-align: top;\n",
       "    }\n",
       "\n",
       "    .dataframe thead th {\n",
       "        text-align: right;\n",
       "    }\n",
       "</style>\n",
       "<table border=\"1\" class=\"dataframe\">\n",
       "  <thead>\n",
       "    <tr style=\"text-align: right;\">\n",
       "      <th></th>\n",
       "      <th>0</th>\n",
       "      <th>1</th>\n",
       "      <th>2</th>\n",
       "    </tr>\n",
       "  </thead>\n",
       "  <tbody>\n",
       "    <tr>\n",
       "      <th>0</th>\n",
       "      <td>-0.704090</td>\n",
       "      <td>-0.846876</td>\n",
       "      <td>-0.058906</td>\n",
       "    </tr>\n",
       "    <tr>\n",
       "      <th>1</th>\n",
       "      <td>-0.905275</td>\n",
       "      <td>-0.038653</td>\n",
       "      <td>-1.193650</td>\n",
       "    </tr>\n",
       "    <tr>\n",
       "      <th>2</th>\n",
       "      <td>0.676213</td>\n",
       "      <td>2.088277</td>\n",
       "      <td>-0.422811</td>\n",
       "    </tr>\n",
       "    <tr>\n",
       "      <th>3</th>\n",
       "      <td>-1.178633</td>\n",
       "      <td>-0.273718</td>\n",
       "      <td>-1.220323</td>\n",
       "    </tr>\n",
       "  </tbody>\n",
       "</table>\n",
       "</div>"
      ],
      "text/plain": [
       "          0         1         2\n",
       "0 -0.704090 -0.846876 -0.058906\n",
       "1 -0.905275 -0.038653 -1.193650\n",
       "2  0.676213  2.088277 -0.422811\n",
       "3 -1.178633 -0.273718 -1.220323"
      ]
     },
     "execution_count": 12,
     "metadata": {},
     "output_type": "execute_result"
    }
   ],
   "source": [
    "a=pd.DataFrame(np.random.randn(4, 3))\n",
    "b=pd.DataFrame(np.random.randn(4, 2))\n",
    "a"
   ]
  },
  {
   "cell_type": "code",
   "execution_count": 13,
   "metadata": {},
   "outputs": [
    {
     "data": {
      "text/html": [
       "<div>\n",
       "<style scoped>\n",
       "    .dataframe tbody tr th:only-of-type {\n",
       "        vertical-align: middle;\n",
       "    }\n",
       "\n",
       "    .dataframe tbody tr th {\n",
       "        vertical-align: top;\n",
       "    }\n",
       "\n",
       "    .dataframe thead th {\n",
       "        text-align: right;\n",
       "    }\n",
       "</style>\n",
       "<table border=\"1\" class=\"dataframe\">\n",
       "  <thead>\n",
       "    <tr style=\"text-align: right;\">\n",
       "      <th></th>\n",
       "      <th>0</th>\n",
       "      <th>1</th>\n",
       "    </tr>\n",
       "  </thead>\n",
       "  <tbody>\n",
       "    <tr>\n",
       "      <th>0</th>\n",
       "      <td>1.293908</td>\n",
       "      <td>1.072180</td>\n",
       "    </tr>\n",
       "    <tr>\n",
       "      <th>1</th>\n",
       "      <td>0.712632</td>\n",
       "      <td>-0.978868</td>\n",
       "    </tr>\n",
       "    <tr>\n",
       "      <th>2</th>\n",
       "      <td>0.177771</td>\n",
       "      <td>0.534546</td>\n",
       "    </tr>\n",
       "    <tr>\n",
       "      <th>3</th>\n",
       "      <td>-0.356847</td>\n",
       "      <td>0.435834</td>\n",
       "    </tr>\n",
       "  </tbody>\n",
       "</table>\n",
       "</div>"
      ],
      "text/plain": [
       "          0         1\n",
       "0  1.293908  1.072180\n",
       "1  0.712632 -0.978868\n",
       "2  0.177771  0.534546\n",
       "3 -0.356847  0.435834"
      ]
     },
     "execution_count": 13,
     "metadata": {},
     "output_type": "execute_result"
    }
   ],
   "source": [
    "b"
   ]
  },
  {
   "cell_type": "code",
   "execution_count": 19,
   "metadata": {},
   "outputs": [
    {
     "data": {
      "text/html": [
       "<div>\n",
       "<style scoped>\n",
       "    .dataframe tbody tr th:only-of-type {\n",
       "        vertical-align: middle;\n",
       "    }\n",
       "\n",
       "    .dataframe tbody tr th {\n",
       "        vertical-align: top;\n",
       "    }\n",
       "\n",
       "    .dataframe thead th {\n",
       "        text-align: right;\n",
       "    }\n",
       "</style>\n",
       "<table border=\"1\" class=\"dataframe\">\n",
       "  <thead>\n",
       "    <tr style=\"text-align: right;\">\n",
       "      <th></th>\n",
       "      <th>0</th>\n",
       "      <th>1</th>\n",
       "      <th>2</th>\n",
       "    </tr>\n",
       "  </thead>\n",
       "  <tbody>\n",
       "    <tr>\n",
       "      <th>0</th>\n",
       "      <td>-0.704090</td>\n",
       "      <td>-0.846876</td>\n",
       "      <td>-0.058906</td>\n",
       "    </tr>\n",
       "    <tr>\n",
       "      <th>1</th>\n",
       "      <td>-0.905275</td>\n",
       "      <td>-0.038653</td>\n",
       "      <td>-1.193650</td>\n",
       "    </tr>\n",
       "    <tr>\n",
       "      <th>2</th>\n",
       "      <td>0.676213</td>\n",
       "      <td>2.088277</td>\n",
       "      <td>-0.422811</td>\n",
       "    </tr>\n",
       "    <tr>\n",
       "      <th>3</th>\n",
       "      <td>-1.178633</td>\n",
       "      <td>-0.273718</td>\n",
       "      <td>-1.220323</td>\n",
       "    </tr>\n",
       "  </tbody>\n",
       "</table>\n",
       "</div>"
      ],
      "text/plain": [
       "          0         1         2\n",
       "0 -0.704090 -0.846876 -0.058906\n",
       "1 -0.905275 -0.038653 -1.193650\n",
       "2  0.676213  2.088277 -0.422811\n",
       "3 -1.178633 -0.273718 -1.220323"
      ]
     },
     "execution_count": 19,
     "metadata": {},
     "output_type": "execute_result"
    }
   ],
   "source": [
    "data = {'Item1' : a, 'Item2' : b}\n",
    "p=pd.Panel(data)\n",
    "p['Item1']"
   ]
  },
  {
   "cell_type": "code",
   "execution_count": 20,
   "metadata": {},
   "outputs": [
    {
     "data": {
      "text/html": [
       "<div>\n",
       "<style scoped>\n",
       "    .dataframe tbody tr th:only-of-type {\n",
       "        vertical-align: middle;\n",
       "    }\n",
       "\n",
       "    .dataframe tbody tr th {\n",
       "        vertical-align: top;\n",
       "    }\n",
       "\n",
       "    .dataframe thead th {\n",
       "        text-align: right;\n",
       "    }\n",
       "</style>\n",
       "<table border=\"1\" class=\"dataframe\">\n",
       "  <thead>\n",
       "    <tr style=\"text-align: right;\">\n",
       "      <th></th>\n",
       "      <th>0</th>\n",
       "      <th>1</th>\n",
       "      <th>2</th>\n",
       "    </tr>\n",
       "  </thead>\n",
       "  <tbody>\n",
       "    <tr>\n",
       "      <th>0</th>\n",
       "      <td>1.293908</td>\n",
       "      <td>1.072180</td>\n",
       "      <td>NaN</td>\n",
       "    </tr>\n",
       "    <tr>\n",
       "      <th>1</th>\n",
       "      <td>0.712632</td>\n",
       "      <td>-0.978868</td>\n",
       "      <td>NaN</td>\n",
       "    </tr>\n",
       "    <tr>\n",
       "      <th>2</th>\n",
       "      <td>0.177771</td>\n",
       "      <td>0.534546</td>\n",
       "      <td>NaN</td>\n",
       "    </tr>\n",
       "    <tr>\n",
       "      <th>3</th>\n",
       "      <td>-0.356847</td>\n",
       "      <td>0.435834</td>\n",
       "      <td>NaN</td>\n",
       "    </tr>\n",
       "  </tbody>\n",
       "</table>\n",
       "</div>"
      ],
      "text/plain": [
       "          0         1   2\n",
       "0  1.293908  1.072180 NaN\n",
       "1  0.712632 -0.978868 NaN\n",
       "2  0.177771  0.534546 NaN\n",
       "3 -0.356847  0.435834 NaN"
      ]
     },
     "execution_count": 20,
     "metadata": {},
     "output_type": "execute_result"
    }
   ],
   "source": [
    "p['Item2']"
   ]
  },
  {
   "cell_type": "code",
   "execution_count": null,
   "metadata": {},
   "outputs": [],
   "source": []
  }
 ],
 "metadata": {
  "kernelspec": {
   "display_name": "Python 3",
   "language": "python",
   "name": "python3"
  },
  "language_info": {
   "codemirror_mode": {
    "name": "ipython",
    "version": 3
   },
   "file_extension": ".py",
   "mimetype": "text/x-python",
   "name": "python",
   "nbconvert_exporter": "python",
   "pygments_lexer": "ipython3",
   "version": "3.6.7"
  }
 },
 "nbformat": 4,
 "nbformat_minor": 2
}
